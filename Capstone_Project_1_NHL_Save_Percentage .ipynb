{
 "cells": [
  {
   "cell_type": "markdown",
   "id": "4d0a5f3b",
   "metadata": {},
   "source": [
    "## 1. Introduction: \n",
    "\n",
    "Despite its regional popularity, the National Hockey League (NHL) is widely considered the least popular of the 4 major sports leagues in the United States. In recent years, league officials have made several efforts to increase viewership and popularity, particularly among potential fans in non-traditional hockey markets. One such effort came in the form of a controversial 2018/2019 rule change which reduced the size of the padding goaltenders are allowed to wear. \n",
    "\n",
    "More information on the context and specifics of the rule chages can be found here: https://www.nhl.com/news/nhl-nhlpa-add-chest-arm-pad-rules-for-goalies/c-300172856\n",
    "\n",
    "The ideas behind the rule change are simple - league officials believe goalies are less likely to make saves with smaller pads and higher scoring games are a better product, especially for more casual fans in non-traditional markets. \n",
    "\n",
    "\n",
    "## 2. Hypothesis:\n",
    "\n",
    "H₀: There is no significant change in the average save percentage in the 3 seasons played since the rule change\n",
    "\n",
    "Hₐ: There has been a significant change in the average save percentage in the 3 seasons played since the rule change\n",
    "\n",
    "\n",
    "## 3. Data:\n",
    "\n",
    "Using the NHL statistics database (http://www.nhl.com/stats/goalies), I have exported goaltender data for the past 6 seasons. The data contains 406 observations and 21 variables. I will compare the three seasons prior to the rule change to the three seasons since. To control for outliers, I have filtered the data for players that appeared in at least 10 games. This is also consistent with the structure of entry level contracts which require players under the age of 19 to play in at least 10 games before their contracts are enacted. \n",
    "\n"
   ]
  },
  {
   "cell_type": "code",
   "execution_count": 1,
   "id": "34217149",
   "metadata": {},
   "outputs": [],
   "source": [
    "#setting up the environment \n",
    "\n",
    "import math\n",
    "import pandas as pd\n",
    "import numpy as np\n",
    "from scipy import stats\n",
    "import matplotlib.pyplot as plt\n",
    "import glob\n",
    "\n",
    "\n",
    "#The data is contained in 9 seperate xlsx files. I will use the method below to combine them into one DataFrame.\n",
    "#I have filtered the data for players that participated in at least 10 games prior to export\n",
    "\n",
    "path = 'https://github.com/JREnglish99/thinkful-data-science/tree/main/nhl_data'\n",
    "all_files = glob.glob(path + \"/*.xlsx\")\n",
    "\n",
    "li = []\n",
    "\n",
    "for filename in all_files:\n",
    "    df = pd.read_excel(filename, index_col=None, header=0)\n",
    "    li.append(df)\n",
    "\n",
    "goalies = pd.concat(li, axis=0, ignore_index=True)"
   ]
  },
  {
   "cell_type": "code",
   "execution_count": 2,
   "id": "405c3437",
   "metadata": {},
   "outputs": [
    {
     "name": "stdout",
     "output_type": "stream",
     "text": [
      "<class 'pandas.core.frame.DataFrame'>\n",
      "RangeIndex: 406 entries, 0 to 405\n",
      "Data columns (total 21 columns):\n",
      " #   Column  Non-Null Count  Dtype  \n",
      "---  ------  --------------  -----  \n",
      " 0   Player  406 non-null    object \n",
      " 1   Season  406 non-null    int64  \n",
      " 2   Team    406 non-null    object \n",
      " 3   S/C     406 non-null    object \n",
      " 4   GP      406 non-null    int64  \n",
      " 5   GS      406 non-null    int64  \n",
      " 6   W       406 non-null    int64  \n",
      " 7   L       406 non-null    int64  \n",
      " 8   T       406 non-null    object \n",
      " 9   OT      406 non-null    int64  \n",
      " 10  SA      406 non-null    object \n",
      " 11  Svs     406 non-null    object \n",
      " 12  GA      406 non-null    int64  \n",
      " 13  Sv%     406 non-null    float64\n",
      " 14  GAA     406 non-null    float64\n",
      " 15  TOI     406 non-null    object \n",
      " 16  SO      406 non-null    int64  \n",
      " 17  G       406 non-null    int64  \n",
      " 18  A       406 non-null    int64  \n",
      " 19  P       406 non-null    int64  \n",
      " 20  PIM     406 non-null    int64  \n",
      "dtypes: float64(2), int64(12), object(7)\n",
      "memory usage: 66.7+ KB\n"
     ]
    }
   ],
   "source": [
    "goalies.info()"
   ]
  },
  {
   "cell_type": "code",
   "execution_count": 3,
   "id": "363615e0",
   "metadata": {},
   "outputs": [
    {
     "data": {
      "text/html": [
       "<div>\n",
       "<style scoped>\n",
       "    .dataframe tbody tr th:only-of-type {\n",
       "        vertical-align: middle;\n",
       "    }\n",
       "\n",
       "    .dataframe tbody tr th {\n",
       "        vertical-align: top;\n",
       "    }\n",
       "\n",
       "    .dataframe thead th {\n",
       "        text-align: right;\n",
       "    }\n",
       "</style>\n",
       "<table border=\"1\" class=\"dataframe\">\n",
       "  <thead>\n",
       "    <tr style=\"text-align: right;\">\n",
       "      <th></th>\n",
       "      <th>Player</th>\n",
       "      <th>Season</th>\n",
       "      <th>Team</th>\n",
       "      <th>S/C</th>\n",
       "      <th>GP</th>\n",
       "      <th>GS</th>\n",
       "      <th>W</th>\n",
       "      <th>L</th>\n",
       "      <th>T</th>\n",
       "      <th>OT</th>\n",
       "      <th>...</th>\n",
       "      <th>Svs</th>\n",
       "      <th>GA</th>\n",
       "      <th>Sv%</th>\n",
       "      <th>GAA</th>\n",
       "      <th>TOI</th>\n",
       "      <th>SO</th>\n",
       "      <th>G</th>\n",
       "      <th>A</th>\n",
       "      <th>P</th>\n",
       "      <th>PIM</th>\n",
       "    </tr>\n",
       "  </thead>\n",
       "  <tbody>\n",
       "    <tr>\n",
       "      <th>0</th>\n",
       "      <td>Jeremy Swayman</td>\n",
       "      <td>20202021</td>\n",
       "      <td>BOS</td>\n",
       "      <td>L</td>\n",
       "      <td>10</td>\n",
       "      <td>10</td>\n",
       "      <td>7</td>\n",
       "      <td>3</td>\n",
       "      <td>--</td>\n",
       "      <td>0</td>\n",
       "      <td>...</td>\n",
       "      <td>256</td>\n",
       "      <td>15</td>\n",
       "      <td>0.945</td>\n",
       "      <td>1.50</td>\n",
       "      <td>601:43</td>\n",
       "      <td>2</td>\n",
       "      <td>0</td>\n",
       "      <td>0</td>\n",
       "      <td>0</td>\n",
       "      <td>0</td>\n",
       "    </tr>\n",
       "    <tr>\n",
       "      <th>1</th>\n",
       "      <td>Chris Driedger</td>\n",
       "      <td>20192020</td>\n",
       "      <td>FLA</td>\n",
       "      <td>L</td>\n",
       "      <td>12</td>\n",
       "      <td>11</td>\n",
       "      <td>7</td>\n",
       "      <td>2</td>\n",
       "      <td>--</td>\n",
       "      <td>1</td>\n",
       "      <td>...</td>\n",
       "      <td>332</td>\n",
       "      <td>22</td>\n",
       "      <td>0.938</td>\n",
       "      <td>2.05</td>\n",
       "      <td>642:40</td>\n",
       "      <td>1</td>\n",
       "      <td>0</td>\n",
       "      <td>0</td>\n",
       "      <td>0</td>\n",
       "      <td>0</td>\n",
       "    </tr>\n",
       "    <tr>\n",
       "      <th>2</th>\n",
       "      <td>Carey Price</td>\n",
       "      <td>20152016</td>\n",
       "      <td>MTL</td>\n",
       "      <td>L</td>\n",
       "      <td>12</td>\n",
       "      <td>12</td>\n",
       "      <td>10</td>\n",
       "      <td>2</td>\n",
       "      <td>--</td>\n",
       "      <td>0</td>\n",
       "      <td>...</td>\n",
       "      <td>341</td>\n",
       "      <td>24</td>\n",
       "      <td>0.934</td>\n",
       "      <td>2.06</td>\n",
       "      <td>698:20</td>\n",
       "      <td>2</td>\n",
       "      <td>0</td>\n",
       "      <td>0</td>\n",
       "      <td>0</td>\n",
       "      <td>0</td>\n",
       "    </tr>\n",
       "    <tr>\n",
       "      <th>3</th>\n",
       "      <td>Ben Bishop</td>\n",
       "      <td>20182019</td>\n",
       "      <td>DAL</td>\n",
       "      <td>L</td>\n",
       "      <td>46</td>\n",
       "      <td>45</td>\n",
       "      <td>27</td>\n",
       "      <td>15</td>\n",
       "      <td>--</td>\n",
       "      <td>2</td>\n",
       "      <td>...</td>\n",
       "      <td>1,236</td>\n",
       "      <td>87</td>\n",
       "      <td>0.934</td>\n",
       "      <td>1.98</td>\n",
       "      <td>2637:18</td>\n",
       "      <td>7</td>\n",
       "      <td>0</td>\n",
       "      <td>2</td>\n",
       "      <td>2</td>\n",
       "      <td>2</td>\n",
       "    </tr>\n",
       "    <tr>\n",
       "      <th>4</th>\n",
       "      <td>Curtis McElhinney</td>\n",
       "      <td>20172018</td>\n",
       "      <td>TOR</td>\n",
       "      <td>L</td>\n",
       "      <td>18</td>\n",
       "      <td>15</td>\n",
       "      <td>11</td>\n",
       "      <td>5</td>\n",
       "      <td>--</td>\n",
       "      <td>1</td>\n",
       "      <td>...</td>\n",
       "      <td>493</td>\n",
       "      <td>35</td>\n",
       "      <td>0.934</td>\n",
       "      <td>2.14</td>\n",
       "      <td>979:07</td>\n",
       "      <td>3</td>\n",
       "      <td>0</td>\n",
       "      <td>1</td>\n",
       "      <td>1</td>\n",
       "      <td>0</td>\n",
       "    </tr>\n",
       "  </tbody>\n",
       "</table>\n",
       "<p>5 rows × 21 columns</p>\n",
       "</div>"
      ],
      "text/plain": [
       "              Player    Season Team S/C  GP  GS   W   L   T  OT  ...    Svs  \\\n",
       "0     Jeremy Swayman  20202021  BOS   L  10  10   7   3  --   0  ...    256   \n",
       "1     Chris Driedger  20192020  FLA   L  12  11   7   2  --   1  ...    332   \n",
       "2        Carey Price  20152016  MTL   L  12  12  10   2  --   0  ...    341   \n",
       "3         Ben Bishop  20182019  DAL   L  46  45  27  15  --   2  ...  1,236   \n",
       "4  Curtis McElhinney  20172018  TOR   L  18  15  11   5  --   1  ...    493   \n",
       "\n",
       "   GA    Sv%   GAA      TOI SO  G  A  P  PIM  \n",
       "0  15  0.945  1.50   601:43  2  0  0  0    0  \n",
       "1  22  0.938  2.05   642:40  1  0  0  0    0  \n",
       "2  24  0.934  2.06   698:20  2  0  0  0    0  \n",
       "3  87  0.934  1.98  2637:18  7  0  2  2    2  \n",
       "4  35  0.934  2.14   979:07  3  0  1  1    0  \n",
       "\n",
       "[5 rows x 21 columns]"
      ]
     },
     "execution_count": 3,
     "metadata": {},
     "output_type": "execute_result"
    }
   ],
   "source": [
    "goalies.head()"
   ]
  },
  {
   "cell_type": "markdown",
   "id": "86921160",
   "metadata": {},
   "source": [
    "## 4. Methods:\n",
    "\n",
    "For this analysis I will create two seperate DataFrames. The first DataFrame will contain records of player statistics for the three seasons prior to the rule change (2015/2016, 2016/2017, 2017/2018). The second DataFrame will contain records of player statistics for the three seasons since the rule change (2018/2019, 2019/2020, 2020/2021). \n",
    "\n",
    "I will evaluate whether or not the distribution of save percentage (Sv%) appears to be normal using their histogram, skewness and kurtosis. I will also use the Shaprio-Wilks test as the sample size is under 2000. \n",
    "\n",
    "If the distributions appear normal, I will conduct an independent samples t-test comparing the two groups at a 95% confidence interval.\n",
    "\n"
   ]
  },
  {
   "cell_type": "code",
   "execution_count": 18,
   "id": "dc5b8402",
   "metadata": {},
   "outputs": [
    {
     "name": "stdout",
     "output_type": "stream",
     "text": [
      "<class 'pandas.core.frame.DataFrame'>\n",
      "Int64Index: 203 entries, 2 to 405\n",
      "Data columns (total 21 columns):\n",
      " #   Column  Non-Null Count  Dtype  \n",
      "---  ------  --------------  -----  \n",
      " 0   Player  203 non-null    object \n",
      " 1   Season  203 non-null    int64  \n",
      " 2   Team    203 non-null    object \n",
      " 3   S/C     203 non-null    object \n",
      " 4   GP      203 non-null    int64  \n",
      " 5   GS      203 non-null    int64  \n",
      " 6   W       203 non-null    int64  \n",
      " 7   L       203 non-null    int64  \n",
      " 8   T       203 non-null    object \n",
      " 9   OT      203 non-null    int64  \n",
      " 10  SA      203 non-null    object \n",
      " 11  Svs     203 non-null    object \n",
      " 12  GA      203 non-null    int64  \n",
      " 13  Sv%     203 non-null    float64\n",
      " 14  GAA     203 non-null    float64\n",
      " 15  TOI     203 non-null    object \n",
      " 16  SO      203 non-null    int64  \n",
      " 17  G       203 non-null    int64  \n",
      " 18  A       203 non-null    int64  \n",
      " 19  P       203 non-null    int64  \n",
      " 20  PIM     203 non-null    int64  \n",
      "dtypes: float64(2), int64(12), object(7)\n",
      "memory usage: 34.9+ KB\n",
      "None\n",
      "<class 'pandas.core.frame.DataFrame'>\n",
      "Int64Index: 203 entries, 0 to 404\n",
      "Data columns (total 21 columns):\n",
      " #   Column  Non-Null Count  Dtype  \n",
      "---  ------  --------------  -----  \n",
      " 0   Player  203 non-null    object \n",
      " 1   Season  203 non-null    int64  \n",
      " 2   Team    203 non-null    object \n",
      " 3   S/C     203 non-null    object \n",
      " 4   GP      203 non-null    int64  \n",
      " 5   GS      203 non-null    int64  \n",
      " 6   W       203 non-null    int64  \n",
      " 7   L       203 non-null    int64  \n",
      " 8   T       203 non-null    object \n",
      " 9   OT      203 non-null    int64  \n",
      " 10  SA      203 non-null    object \n",
      " 11  Svs     203 non-null    object \n",
      " 12  GA      203 non-null    int64  \n",
      " 13  Sv%     203 non-null    float64\n",
      " 14  GAA     203 non-null    float64\n",
      " 15  TOI     203 non-null    object \n",
      " 16  SO      203 non-null    int64  \n",
      " 17  G       203 non-null    int64  \n",
      " 18  A       203 non-null    int64  \n",
      " 19  P       203 non-null    int64  \n",
      " 20  PIM     203 non-null    int64  \n",
      "dtypes: float64(2), int64(12), object(7)\n",
      "memory usage: 34.9+ KB\n",
      "None\n"
     ]
    }
   ],
   "source": [
    "#splitting the dataset by date\n",
    "\n",
    "pre_rule_change = goalies[(goalies['Season'].isin([20152016, 20162017, 20172018]))] \n",
    "post_rule_change = goalies[(goalies['Season'].isin([20182019, 20192020, 20202021]))] \n",
    "\n",
    "print(pre_rule_change.info())\n",
    "print(post_rule_change.info())\n"
   ]
  },
  {
   "cell_type": "code",
   "execution_count": 19,
   "id": "261374bd",
   "metadata": {},
   "outputs": [
    {
     "data": {
      "image/png": "[encoded data removed]",
      "text/plain": [
       "<Figure size 432x288 with 1 Axes>"
      ]
     },
     "metadata": {
      "needs_background": "light"
     },
     "output_type": "display_data"
    },
    {
     "name": "stdout",
     "output_type": "stream",
     "text": [
      "DescribeResult(nobs=203, minmax=(0.867, 0.934), mean=0.9120738916256158, variance=0.00013051431497829608, skewness=-0.8256438452587909, kurtosis=0.9396057481526761)\n",
      "DescribeResult(nobs=203, minmax=(0.875, 0.945), mean=0.9083152709359608, variance=0.0001593852606935573, skewness=-0.2044861672622778, kurtosis=0.1142300525549822)\n"
     ]
    }
   ],
   "source": [
    "#ploting the histogram\n",
    "\n",
    "plt.hist(pre_rule_change['Sv%'], alpha = .5, label='pre_rule_change')\n",
    "plt.hist(post_rule_change['Sv%'], alpha = .5, label='post_rule_change')\n",
    "plt.legend(loc='upper left')\n",
    "\n",
    "plt.show()\n",
    "\n",
    "#descriptive statistics\n",
    "\n",
    "print(stats.describe(pre_rule_change['Sv%']))\n",
    "print(stats.describe(post_rule_change['Sv%']))"
   ]
  },
  {
   "cell_type": "code",
   "execution_count": 20,
   "id": "2d47dbc2",
   "metadata": {},
   "outputs": [
    {
     "name": "stdout",
     "output_type": "stream",
     "text": [
      "ShapiroResult(statistic=0.9600621461868286, pvalue=1.740946390782483e-05)\n",
      "ShapiroResult(statistic=0.992858350276947, pvalue=0.4302244782447815)\n"
     ]
    }
   ],
   "source": [
    "# Shapiro-Wilk Test\n",
    "\n",
    "print(stats.shapiro(pre_rule_change['Sv%']))\n",
    "print(stats.shapiro(post_rule_change['Sv%']))"
   ]
  },
  {
   "cell_type": "code",
   "execution_count": 22,
   "id": "ec1b4211",
   "metadata": {},
   "outputs": [
    {
     "data": {
      "text/plain": [
       "Ttest_indResult(statistic=3.145232315578933, pvalue=0.0017822882556259103)"
      ]
     },
     "execution_count": 22,
     "metadata": {},
     "output_type": "execute_result"
    }
   ],
   "source": [
    "#shapiro p-value for post_rule_change Sv% is lower than .5. However, this test is sensitive for samples over 50\n",
    "#visual inspection and descriptive stats look good to proceed to t-test\n",
    "\n",
    "stats.ttest_ind(pre_rule_change['Sv%'], post_rule_change['Sv%'])"
   ]
  },
  {
   "cell_type": "code",
   "execution_count": 29,
   "id": "c3b9ff0a",
   "metadata": {},
   "outputs": [
    {
     "name": "stdout",
     "output_type": "stream",
     "text": [
      "The difference in means at the 95% confidence interval (two-tail) is between -0.006100863110106882 and -0.0014163782692038756.\n",
      "The avereage save percentage pre rule change is: 0.9120738916256157\n",
      "The avereage save percentage post rule change is: 0.9083152709359603\n"
     ]
    }
   ],
   "source": [
    "def get_95_ci(array_1, array_2):\n",
    "    sample_1_n = array_1.shape[0]\n",
    "    sample_2_n = array_2.shape[0]\n",
    "    sample_1_mean = array_1.mean()\n",
    "    sample_2_mean = array_2.mean()\n",
    "    sample_1_var = array_1.var()\n",
    "    sample_2_var = array_2.var()\n",
    "    mean_difference = sample_2_mean - sample_1_mean\n",
    "    std_err_difference = math.sqrt((sample_1_var/sample_1_n)+(sample_2_var/sample_2_n))\n",
    "    margin_of_error = 1.96 * std_err_difference\n",
    "    ci_lower = mean_difference - margin_of_error\n",
    "    ci_upper = mean_difference + margin_of_error\n",
    "    return(\"The difference in means at the 95% confidence interval (two-tail) is between \"+str(ci_lower)+\" and \"+str(ci_upper)+\".\")\n",
    "\n",
    "print(get_95_ci(pre_rule_change['Sv%'], post_rule_change['Sv%']))\n",
    "\n",
    "#the average save% for both years\n",
    "\n",
    "print(\"The avereage save percentage pre rule change is: {}\" .format(pre_rule_change['Sv%'].mean()))\n",
    "\n",
    "print(\"The avereage save percentage post rule change is: {}\" .format(post_rule_change['Sv%'].mean()))\n",
    "\n"
   ]
  },
  {
   "cell_type": "code",
   "execution_count": 30,
   "id": "aa2531cb",
   "metadata": {},
   "outputs": [
    {
     "data": {
      "text/plain": [
       "[[Text(0, 0, 'pre_rule_change'), Text(1, 0, 'post_rule_change')]]"
      ]
     },
     "execution_count": 30,
     "metadata": {},
     "output_type": "execute_result"
    },
    {
     "data": {
      "image/png": "[encoded data removed]",
      "text/plain": [
       "<Figure size 432x288 with 1 Axes>"
      ]
     },
     "metadata": {
      "needs_background": "light"
     },
     "output_type": "display_data"
    }
   ],
   "source": [
    "# adding a piont plot to help vizualize the difference in means\n",
    "#note that this vizualizes the confidence interval of each mean as opposed ...\n",
    "#...to the t-test confidence interval of the difference in means\n",
    "\n",
    "import seaborn as sns\n",
    "\n",
    "avg_save_percentage_difference = sns.pointplot(data=[pre_rule_change['Sv%'],\n",
    "                        post_rule_change['Sv%']], join=False)\n",
    "                        \n",
    "avg_save_percentage_difference.set(xticklabels = ['pre_rule_change', 'post_rule_change'])"
   ]
  },
  {
   "cell_type": "markdown",
   "id": "be4bda69",
   "metadata": {},
   "source": [
    "## 5. Results:\n",
    "\n",
    "Using a combination of visual inspection, descriptive stats and the Shapiro-Wilk test, I confirmed that the save percentages are normally distributed. Based on the test statistic of 3.14 and the p-value of .001, I can reject the null hypothesis that there is no significant change in the average save percentage in the 3 seasons played since the rule change.\n",
    "\n",
    "The confidence interval od 95% indicates that the difference in means is between -0.006 and -0.001. The avereage save percentage pre-rule change is 0.912 and the avereage save percentage post rule change is: 0.908.\n",
    "\n",
    "\n",
    "## 6. Discussion and Recommendation:\n",
    "\n",
    "The average save percentage for NHL goalies has decreased significantly in the three seasons since rules were put in place to limit the size of their padding, when compared to the three seasons prior to the rule change. \n",
    "\n",
    "While this seems to indicate that reducing equipement size caused more goals, there could be other significant variables at play contributing to the decrease in save percentage. It would be interesting to compare the save percentage statistics to scoring statistics for non-goalies to see if that yeilds any other insights. One difficult to define variable outside of this dataset would be the impact of the playing conditions during COVID. This could potentially bias the post rule numbers. More data should be collected and the effectiveness of the rule change in generating more scoring should continue to be evaluated.\n",
    "\n",
    "In regards to the NHL's larger goal of generating more interest in the game (and ultimately more money for the league), this analysis should be viewed as one piece of a larger analysis of market share that would likely include things like fan surveys, viewership ratings...etc. \n",
    "\n"
   ]
  }
 ],
 "metadata": {
  "kernelspec": {
   "display_name": "Python 3",
   "language": "python",
   "name": "python3"
  },
  "language_info": {
   "codemirror_mode": {
    "name": "ipython",
    "version": 3
   },
   "file_extension": ".py",
   "mimetype": "text/x-python",
   "name": "python",
   "nbconvert_exporter": "python",
   "pygments_lexer": "ipython3",
   "version": "3.8.8"
  }
 },
 "nbformat": 4,
 "nbformat_minor": 5
}
